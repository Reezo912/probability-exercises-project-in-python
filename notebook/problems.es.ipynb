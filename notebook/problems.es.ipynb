{
 "cells": [
  {
   "cell_type": "markdown",
   "id": "a41f3622",
   "metadata": {},
   "source": [
    "# Ejercicios de probabilidad"
   ]
  },
  {
   "cell_type": "markdown",
   "id": "a6bdbd89",
   "metadata": {},
   "source": [
    "## Ejercicio 1 \n",
    "\n",
    "Dos dados se lanzan una vez y se observa el total obtenido. Usa una simulación para encontrar la probabilidad estimada de que la puntuación sea mayor a 7 o un número par. Una simulación es una repetición del mismo experimento multiples veces para observar su comportamiento:\n",
    "\n",
    "- Ejecuta el experimento 1000 veces (lanza 2 dados 1000 veces, y suma el número de ambos dados).\n",
    "- Lleva ua cuenta de los números y las veces que la suma fue mayor a 7 o un número par.\n",
    "- Divide el número del paso 2 entre el número de iteraciones(1000)."
   ]
  },
  {
   "cell_type": "code",
   "execution_count": 144,
   "id": "8939d892",
   "metadata": {},
   "outputs": [
    {
     "name": "stdout",
     "output_type": "stream",
     "text": [
      "El numero de tiradas que sumaban mas de siete es o eran pares es de 667 \n",
      "El porcentaje en base 1 es de 0.667\n"
     ]
    }
   ],
   "source": [
    "# TODO\n",
    "import random\n",
    "import numpy as np\n",
    "\n",
    "numero_tiradas = 1000\n",
    "contador = 0\n",
    "\n",
    "def lanzar_dado():\n",
    "    tirada1 = np.random.randint(1, 7)\n",
    "    tirada2 = np.random.randint(1, 7)\n",
    "    suma = tirada1 + tirada2\n",
    "    return suma\n",
    "\n",
    "\n",
    "for _ in range (numero_tiradas):\n",
    "    suma = lanzar_dado()\n",
    "    if suma > 7 or suma % 2 == 0:\n",
    "        contador += 1\n",
    "\n",
    "\n",
    "print(f'El numero de tiradas que sumaban mas de siete es o eran pares es de {contador} ')\n",
    "\n",
    "porcentaje =  contador / numero_tiradas\n",
    "\n",
    "print(f'El porcentaje en base 1 es de {porcentaje}')\n",
    "\n",
    "\n"
   ]
  },
  {
   "cell_type": "markdown",
   "id": "55732bca",
   "metadata": {},
   "source": [
    "## Ejercicio 2\n",
    "\n",
    "Una caja contiene 10 bolas blancas, 20 bolas rojas y 30 bolas verdes. Si tomamos 5 bolas de la caja reemplazándolas (tomando una bola, anotando el color y luego regresandola a la caja). Queremos saber la probabilidad de:\n",
    "\n",
    "1. Tomar 3 blancas y 2 rojas.\n",
    "2. Toas todas del mismo color.\n",
    "\n",
    "Ejecuta el experimento 1000 veces y calcula las probabilidades que mencionadas."
   ]
  },
  {
   "cell_type": "code",
   "execution_count": 283,
   "id": "23244d20",
   "metadata": {},
   "outputs": [
    {
     "name": "stdout",
     "output_type": "stream",
     "text": [
      "{0: 'White', 1: 'White', 2: 'White', 3: 'White', 4: 'White', 5: 'White', 6: 'White', 7: 'White', 8: 'White', 9: 'White', 10: 'Red', 11: 'Red', 12: 'Red', 13: 'Red', 14: 'Red', 15: 'Red', 16: 'Red', 17: 'Red', 18: 'Red', 19: 'Red', 20: 'Red', 21: 'Red', 22: 'Red', 23: 'Red', 24: 'Red', 25: 'Red', 26: 'Red', 27: 'Red', 28: 'Red', 29: 'Red', 30: 'Green', 31: 'Green', 32: 'Green', 33: 'Green', 34: 'Green', 35: 'Green', 36: 'Green', 37: 'Green', 38: 'Green', 39: 'Green', 40: 'Green', 41: 'Green', 42: 'Green', 43: 'Green', 44: 'Green', 45: 'Green', 46: 'Green', 47: 'Green', 48: 'Green', 49: 'Green', 50: 'Green', 51: 'Green', 52: 'Green', 53: 'Green', 54: 'Green', 55: 'Green', 56: 'Green', 57: 'Green', 58: 'Green', 59: 'Green'}\n",
      "La probabilidad de que salgan del mismo color es de 4.9%\n",
      "La probabilidad de que salgan tres blancas y dos rojas es de 0.4%\n"
     ]
    }
   ],
   "source": [
    "ball_box = {}\n",
    "\n",
    "# Crea la cajas con las bolas\n",
    "for i in range(60):\n",
    "    if i < 10:\n",
    "        ball_box[i] = \"White\"\n",
    "    elif (i > 9) and (i < 30):\n",
    "        ball_box[i] = \"Red\"\n",
    "    else:\n",
    "        ball_box[i] = \"Green\"\n",
    "\n",
    "print(ball_box)\n",
    "            \n",
    "# TODO\n",
    "\n",
    "#funcion principal con el numero de experimentos que queremos realizar\n",
    "def juego(numero_de_experimentos):\n",
    "    \n",
    "    numero_de_bolas = 5\n",
    "    tres_blancas_dos_rojas = 0\n",
    "    cinco_iguales = 0\n",
    "\n",
    "    #funcion para simular que bola cogemos de la caja\n",
    "    def coger_bola():\n",
    "        color_bola = ball_box[np.random.randint(0,60)]\n",
    "        return color_bola\n",
    "    \n",
    "    #bucle para realizar los experimentos, en cada nuevo experimento reseteamos los contadores de colores de las bolas\n",
    "    for x in range (numero_de_experimentos):\n",
    "        blanca = 0\n",
    "        roja = 0\n",
    "        verde = 0\n",
    "\n",
    "        #Bucle para extraer 5 bolas y anotar el color de cada una\n",
    "        for i in range (numero_de_bolas):\n",
    "            color_bola = coger_bola()\n",
    "            if color_bola == 'White':\n",
    "                blanca += 1\n",
    "            elif color_bola == 'Red':\n",
    "                roja += 1\n",
    "            elif color_bola == 'Green':\n",
    "                verde += 1\n",
    "\n",
    "        #Se verifican las condiciones y se anota si han sido ciertas\n",
    "        if roja == 2 and blanca == 3:\n",
    "            tres_blancas_dos_rojas += 1\n",
    "\n",
    "        if blanca == 5 or roja == 5 or verde == 5:\n",
    "            cinco_iguales += 1\n",
    "\n",
    "    #Calculo probabilidades\n",
    "    prob_tres_blancas_dos_rojas = tres_blancas_dos_rojas / numero_de_experimentos\n",
    "    prob_cinco_iguales = cinco_iguales / numero_de_experimentos\n",
    "\n",
    "    return prob_tres_blancas_dos_rojas, prob_cinco_iguales\n",
    "\n",
    "prob_tres_blancas_dos_rojas, prob_cinco_iguales = juego(1000)\n",
    "\n",
    "\n",
    "print(f'La probabilidad de que salgan del mismo color es de {prob_cinco_iguales*100}%')\n",
    "print(f'La probabilidad de que salgan tres blancas y dos rojas es de {prob_tres_blancas_dos_rojas*100}%')\n"
   ]
  }
 ],
 "metadata": {
  "kernelspec": {
   "display_name": "Python 3",
   "language": "python",
   "name": "python3"
  },
  "language_info": {
   "codemirror_mode": {
    "name": "ipython",
    "version": 3
   },
   "file_extension": ".py",
   "mimetype": "text/x-python",
   "name": "python",
   "nbconvert_exporter": "python",
   "pygments_lexer": "ipython3",
   "version": "3.11.9"
  }
 },
 "nbformat": 4,
 "nbformat_minor": 5
}
